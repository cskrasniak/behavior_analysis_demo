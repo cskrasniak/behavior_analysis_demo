{
 "cells": [
  {
   "cell_type": "markdown",
   "metadata": {},
   "source": [
    "# Using [International Brain Laboratory](https://www.internationalbrainlab.com/) behavior data for an example analysis"
   ]
  },
  {
   "cell_type": "markdown",
   "metadata": {},
   "source": [
    "Christopher S Krasniak, Cold Spring Harbor Laboratory, 2020-01-22"
   ]
  },
  {
   "cell_type": "markdown",
   "metadata": {},
   "source": [
    "In order to encourage access and use the IBL data used for and released with the [bioRxiv](https://www.biorxiv.org/content/10.1101/2020.01.17.909838v2) paper detailing the standardized training of the IBL, the Outreach Working Group of the IBL created this tutorial. The purpose of this document is to encourage the use of IBL data, specifically as a resource for teaching the use of python for the analysis of neuroscience and psychology data. Many simple data analysis questions can be explored with this data set, a few examples of which are in the accompanying document DOCUMENT. We hope these questions will help future neuroscientists and psychologists explore this dataset and perhaps make their own unique discoveries as they learn to use python for data analysis."
   ]
  },
  {
   "cell_type": "markdown",
   "metadata": {},
   "source": [
    "To proceed with the tutorial, make sure you have completed the installation steps in the [README](https://github.com/cskrasniak/behavior_analysis_demo/blob/master/README.md)"
   ]
  },
  {
   "cell_type": "markdown",
   "metadata": {},
   "source": [
    "What follows is a tutorial that can be used as an example of how to access the IBL data and perform a simple analysis to answer a simple question. The data used in this tutorial are from mice that have been trained on a basic visual detection task, please read the [paper](https://www.biorxiv.org/content/10.1101/2020.01.17.909838v2) to understand the dataset you will be working with."
   ]
  },
  {
   "cell_type": "markdown",
   "metadata": {},
   "source": [
    "## Question: Who performs more trials, male or female mice?"
   ]
  },
  {
   "cell_type": "markdown",
   "metadata": {},
   "source": [
    "### Import packages\n",
    "The first step, as with any python code, is to import all of the packages we will need to work with the data, this is a good set to start with when working with IBL data. You may need more or fewer for specific questions, but this is a good start."
   ]
  },
  {
   "cell_type": "code",
   "execution_count": 6,
   "metadata": {},
   "outputs": [],
   "source": [
    "import numpy as np\n",
    "import pandas as pd\n",
    "import sys\n",
    "import matplotlib.pyplot as plt\n",
    "import seaborn as sns\n",
    "import datajoint as dj\n",
    "import os\n",
    "import matplotlib as mpl\n",
    "from ibl_pipeline import subject, behavior, acquisition\n",
    "from paper_behavior_functions import query_sessions"
   ]
  },
  {
   "cell_type": "markdown",
   "metadata": {},
   "source": [
    "### Fetch the data we'll need\n",
    "Now that that's all setup, the next thing we have to do is retrieve the data from the database. To do that we will be using [DataJoint](https://docs.datajoint.io/python/), we will be running queries that will return the data we are looking for, queries in DataJoint are run using mySQL syntax. Read more about DataJoint in the link above, and the IBL Data Architecture [here](https://www.biorxiv.org/content/10.1101/827873v1).\n",
    "Included in the _simple_anlaysis_demo_ folder is the list of universially unique identifiers (UUIDs) of the mice we will use to answer our question, and we already imported a function to "
   ]
  },
  {
   "cell_type": "code",
   "execution_count": null,
   "metadata": {},
   "outputs": [],
   "source": [
    "dj."
   ]
  },
  {
   "cell_type": "code",
   "execution_count": 7,
   "metadata": {},
   "outputs": [
    {
     "data": {
      "text/html": [
       "\n",
       "        \n",
       "        <style type=\"text/css\">\n",
       "            .Relation{\n",
       "                border-collapse:collapse;\n",
       "            }\n",
       "            .Relation th{\n",
       "                background: #A0A0A0; color: #ffffff; padding:4px; border:#f0e0e0 1px solid;\n",
       "                font-weight: normal; font-family: monospace; font-size: 100%;\n",
       "            }\n",
       "            .Relation td{\n",
       "                padding:4px; border:#f0e0e0 1px solid; font-size:100%;\n",
       "            }\n",
       "            .Relation tr:nth-child(odd){\n",
       "                background: #ffffff;\n",
       "            }\n",
       "            .Relation tr:nth-child(even){\n",
       "                background: #f3f1ff;\n",
       "            }\n",
       "            /* Tooltip container */\n",
       "            .djtooltip {\n",
       "            }\n",
       "            /* Tooltip text */\n",
       "            .djtooltip .djtooltiptext {\n",
       "                visibility: hidden;\n",
       "                width: 120px;\n",
       "                background-color: black;\n",
       "                color: #fff;\n",
       "                text-align: center;\n",
       "                padding: 5px 0;\n",
       "                border-radius: 6px;\n",
       "                /* Position the tooltip text - see examples below! */\n",
       "                position: absolute;\n",
       "                z-index: 1;\n",
       "            }\n",
       "            #primary {\n",
       "                font-weight: bold;\n",
       "                color: black;\n",
       "            }\n",
       "\n",
       "            #nonprimary {\n",
       "                font-weight: normal;\n",
       "                color: white;\n",
       "            }\n",
       "\n",
       "            /* Show the tooltip text when you mouse over the tooltip container */\n",
       "            .djtooltip:hover .djtooltiptext {\n",
       "                visibility: visible;\n",
       "            }\n",
       "        </style>\n",
       "        \n",
       "        \n",
       "            <div style=\"max-height:1000px;max-width:1500px;overflow:auto;\">\n",
       "            <table border=\"1\" class=\"Relation\">\n",
       "                <thead> <tr style=\"text-align: right;\"> <th> <div class=\"djtooltip\">\n",
       "                                <p id=\"primary\">subject_uuid</p>\n",
       "                                <span class=\"djtooltiptext\"></span>\n",
       "                            </div></th><th><div class=\"djtooltip\">\n",
       "                                <p id=\"primary\">session_start_time</p>\n",
       "                                <span class=\"djtooltiptext\">start time</span>\n",
       "                            </div></th><th><div class=\"djtooltip\">\n",
       "                                <p id=\"primary\">lab_name</p>\n",
       "                                <span class=\"djtooltiptext\">name of lab</span>\n",
       "                            </div></th><th><div class=\"djtooltip\">\n",
       "                                <p id=\"primary\">subject_project</p>\n",
       "                                <span class=\"djtooltiptext\"></span>\n",
       "                            </div></th><th><div class=\"djtooltip\">\n",
       "                                <p id=\"nonprimary\">session_uuid</p>\n",
       "                                <span class=\"djtooltiptext\"></span>\n",
       "                            </div></th><th><div class=\"djtooltip\">\n",
       "                                <p id=\"nonprimary\">task_protocol</p>\n",
       "                                <span class=\"djtooltiptext\"></span>\n",
       "                            </div></th><th><div class=\"djtooltip\">\n",
       "                                <p id=\"nonprimary\">subject_nickname</p>\n",
       "                                <span class=\"djtooltiptext\">nickname</span>\n",
       "                            </div></th><th><div class=\"djtooltip\">\n",
       "                                <p id=\"nonprimary\">institution_short</p>\n",
       "                                <span class=\"djtooltiptext\"></span>\n",
       "                            </div></th><th><div class=\"djtooltip\">\n",
       "                                <p id=\"nonprimary\">training_status</p>\n",
       "                                <span class=\"djtooltiptext\"></span>\n",
       "                            </div> </th> </tr> </thead>\n",
       "                <tbody> <tr> <td>95241a9c-481b-443c-83a7-462165f729ec</td>\n",
       "<td>2019-02-10 09:49:50</td>\n",
       "<td>angelakilab</td>\n",
       "<td>ibl_neuropixel_brainwide_01</td>\n",
       "<td>2823cc5f-dee0-4f98-850b-ebd6d9a7bcd6</td>\n",
       "<td>_iblrig_tasks_trainingChoiceWorld3.5.3</td>\n",
       "<td>IBL-T3</td>\n",
       "<td>NYU</td>\n",
       "<td>in_training</td></tr><tr><td>95241a9c-481b-443c-83a7-462165f729ec</td>\n",
       "<td>2019-02-11 10:35:17</td>\n",
       "<td>angelakilab</td>\n",
       "<td>ibl_neuropixel_brainwide_01</td>\n",
       "<td>ff2b357e-6f14-4745-b6d4-41f3008433c2</td>\n",
       "<td>_iblrig_tasks_trainingChoiceWorld3.5.3</td>\n",
       "<td>IBL-T3</td>\n",
       "<td>NYU</td>\n",
       "<td>in_training</td></tr><tr><td>95241a9c-481b-443c-83a7-462165f729ec</td>\n",
       "<td>2019-02-12 08:25:22</td>\n",
       "<td>angelakilab</td>\n",
       "<td>ibl_neuropixel_brainwide_01</td>\n",
       "<td>f6501177-1c46-427e-b8c9-a7136afd543a</td>\n",
       "<td>_iblrig_tasks_trainingChoiceWorld3.5.3</td>\n",
       "<td>IBL-T3</td>\n",
       "<td>NYU</td>\n",
       "<td>in_training</td></tr><tr><td>95241a9c-481b-443c-83a7-462165f729ec</td>\n",
       "<td>2019-02-13 09:27:32</td>\n",
       "<td>angelakilab</td>\n",
       "<td>ibl_neuropixel_brainwide_01</td>\n",
       "<td>cf02a0c2-bc07-4b17-83b4-64a72ddccb49</td>\n",
       "<td>_iblrig_tasks_trainingChoiceWorld3.5.3</td>\n",
       "<td>IBL-T3</td>\n",
       "<td>NYU</td>\n",
       "<td>in_training</td></tr><tr><td>95241a9c-481b-443c-83a7-462165f729ec</td>\n",
       "<td>2019-02-14 08:55:50</td>\n",
       "<td>angelakilab</td>\n",
       "<td>ibl_neuropixel_brainwide_01</td>\n",
       "<td>7bbd0d31-6802-4990-b072-8e0827f7429c</td>\n",
       "<td>_iblrig_tasks_trainingChoiceWorld3.5.3</td>\n",
       "<td>IBL-T3</td>\n",
       "<td>NYU</td>\n",
       "<td>in_training</td></tr><tr><td>95241a9c-481b-443c-83a7-462165f729ec</td>\n",
       "<td>2019-02-15 09:46:23</td>\n",
       "<td>angelakilab</td>\n",
       "<td>ibl_neuropixel_brainwide_01</td>\n",
       "<td>76d7eed4-f203-40cd-b2ed-0198eb86027d</td>\n",
       "<td>_iblrig_tasks_trainingChoiceWorld3.5.3</td>\n",
       "<td>IBL-T3</td>\n",
       "<td>NYU</td>\n",
       "<td>in_training</td></tr><tr><td>95241a9c-481b-443c-83a7-462165f729ec</td>\n",
       "<td>2019-02-18 08:17:07</td>\n",
       "<td>angelakilab</td>\n",
       "<td>ibl_neuropixel_brainwide_01</td>\n",
       "<td>8806b436-444c-4d46-bb02-bea6db05af5b</td>\n",
       "<td>_iblrig_tasks_trainingChoiceWorld3.5.3</td>\n",
       "<td>IBL-T3</td>\n",
       "<td>NYU</td>\n",
       "<td>in_training</td></tr><tr><td>95241a9c-481b-443c-83a7-462165f729ec</td>\n",
       "<td>2019-02-19 08:02:33</td>\n",
       "<td>angelakilab</td>\n",
       "<td>ibl_neuropixel_brainwide_01</td>\n",
       "<td>eea4b47d-62c8-4998-b9dd-1734990d87e8</td>\n",
       "<td>_iblrig_tasks_trainingChoiceWorld3.5.3</td>\n",
       "<td>IBL-T3</td>\n",
       "<td>NYU</td>\n",
       "<td>in_training</td></tr><tr><td>95241a9c-481b-443c-83a7-462165f729ec</td>\n",
       "<td>2019-02-19 15:36:09</td>\n",
       "<td>angelakilab</td>\n",
       "<td>ibl_neuropixel_brainwide_01</td>\n",
       "<td>62f203e8-6c54-47bc-9200-8d3ce6b0248b</td>\n",
       "<td>_iblrig_tasks_trainingChoiceWorld3.7.2</td>\n",
       "<td>IBL-T3</td>\n",
       "<td>NYU</td>\n",
       "<td>in_training</td></tr><tr><td>95241a9c-481b-443c-83a7-462165f729ec</td>\n",
       "<td>2019-02-20 10:46:10</td>\n",
       "<td>angelakilab</td>\n",
       "<td>ibl_neuropixel_brainwide_01</td>\n",
       "<td>34dd7859-72d5-41a4-9995-00b7bcf00cf2</td>\n",
       "<td>_iblrig_tasks_trainingChoiceWorld3.7.2</td>\n",
       "<td>IBL-T3</td>\n",
       "<td>NYU</td>\n",
       "<td>in_training</td></tr><tr><td>95241a9c-481b-443c-83a7-462165f729ec</td>\n",
       "<td>2019-02-21 09:56:20</td>\n",
       "<td>angelakilab</td>\n",
       "<td>ibl_neuropixel_brainwide_01</td>\n",
       "<td>71889dab-99cf-4bd8-8dab-bd4a454ebdf0</td>\n",
       "<td>_iblrig_tasks_trainingChoiceWorld3.7.2</td>\n",
       "<td>IBL-T3</td>\n",
       "<td>NYU</td>\n",
       "<td>in_training</td></tr><tr><td>95241a9c-481b-443c-83a7-462165f729ec</td>\n",
       "<td>2019-02-22 10:00:02</td>\n",
       "<td>angelakilab</td>\n",
       "<td>ibl_neuropixel_brainwide_01</td>\n",
       "<td>e5ad319d-1085-4280-90c0-a2529fc1e682</td>\n",
       "<td>_iblrig_tasks_trainingChoiceWorld3.7.2</td>\n",
       "<td>IBL-T3</td>\n",
       "<td>NYU</td>\n",
       "<td>in_training</td> </tr> </tbody>\n",
       "            </table>\n",
       "            <p>...</p>\n",
       "            <p>Total: 5541</p></div>\n",
       "            "
      ],
      "text/plain": [
       "*subject_uuid  *session_start *lab_name      *subject_proje session_uuid   task_protocol  subject_nickna institution_sh training_statu\n",
       "+------------+ +------------+ +------------+ +------------+ +------------+ +------------+ +------------+ +------------+ +------------+\n",
       "95241a9c-481b- 2019-02-10 09: angelakilab    ibl_neuropixel 2823cc5f-dee0- _iblrig_tasks_ IBL-T3         NYU            in_training   \n",
       "95241a9c-481b- 2019-02-11 10: angelakilab    ibl_neuropixel ff2b357e-6f14- _iblrig_tasks_ IBL-T3         NYU            in_training   \n",
       "95241a9c-481b- 2019-02-12 08: angelakilab    ibl_neuropixel f6501177-1c46- _iblrig_tasks_ IBL-T3         NYU            in_training   \n",
       "95241a9c-481b- 2019-02-13 09: angelakilab    ibl_neuropixel cf02a0c2-bc07- _iblrig_tasks_ IBL-T3         NYU            in_training   \n",
       "95241a9c-481b- 2019-02-14 08: angelakilab    ibl_neuropixel 7bbd0d31-6802- _iblrig_tasks_ IBL-T3         NYU            in_training   \n",
       "95241a9c-481b- 2019-02-15 09: angelakilab    ibl_neuropixel 76d7eed4-f203- _iblrig_tasks_ IBL-T3         NYU            in_training   \n",
       "95241a9c-481b- 2019-02-18 08: angelakilab    ibl_neuropixel 8806b436-444c- _iblrig_tasks_ IBL-T3         NYU            in_training   \n",
       "95241a9c-481b- 2019-02-19 08: angelakilab    ibl_neuropixel eea4b47d-62c8- _iblrig_tasks_ IBL-T3         NYU            in_training   \n",
       "95241a9c-481b- 2019-02-19 15: angelakilab    ibl_neuropixel 62f203e8-6c54- _iblrig_tasks_ IBL-T3         NYU            in_training   \n",
       "95241a9c-481b- 2019-02-20 10: angelakilab    ibl_neuropixel 34dd7859-72d5- _iblrig_tasks_ IBL-T3         NYU            in_training   \n",
       "95241a9c-481b- 2019-02-21 09: angelakilab    ibl_neuropixel 71889dab-99cf- _iblrig_tasks_ IBL-T3         NYU            in_training   \n",
       "95241a9c-481b- 2019-02-22 10: angelakilab    ibl_neuropixel e5ad319d-1085- _iblrig_tasks_ IBL-T3         NYU            in_training   \n",
       "   ...\n",
       " (Total: 5541)"
      ]
     },
     "execution_count": 7,
     "metadata": {},
     "output_type": "execute_result"
    }
   ],
   "source": [
    "query_sessions(criterion='trained')"
   ]
  },
  {
   "cell_type": "markdown",
   "metadata": {},
   "source": [
    "To inspire original questions for students, the following line can be run to find what the available data types are for analysis."
   ]
  }
 ],
 "metadata": {
  "kernelspec": {
   "display_name": "Python 3",
   "language": "python",
   "name": "python3"
  },
  "language_info": {
   "codemirror_mode": {
    "name": "ipython",
    "version": 3
   },
   "file_extension": ".py",
   "mimetype": "text/x-python",
   "name": "python",
   "nbconvert_exporter": "python",
   "pygments_lexer": "ipython3",
   "version": "3.7.6"
  }
 },
 "nbformat": 4,
 "nbformat_minor": 2
}

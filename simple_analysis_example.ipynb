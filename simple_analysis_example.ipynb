{
 "cells": [
  {
   "cell_type": "markdown",
   "metadata": {},
   "source": [
    "# Using [International Brain Laboratory](https://www.internationalbrainlab.com/) behavior data for an example analysis"
   ]
  },
  {
   "cell_type": "markdown",
   "metadata": {},
   "source": [
    "Christopher S Krasniak, Cold Spring Harbor Laboratory, 2020-01-22"
   ]
  },
  {
   "cell_type": "markdown",
   "metadata": {},
   "source": [
    "In order to encourage access and use the IBL data used for and released with the [bioRxiv](https://www.biorxiv.org/content/10.1101/2020.01.17.909838v2) paper detailing the standardized training of the IBL, the Outreach Working Group of the IBL created this tutorial. The purpose of this document is to encourage the use of IBL data, specifically as a resource for teaching the use of python for the analysis of neuroscience and psychology data. Many simple data analysis questions can be explored with this data set, a few examples of which are in the accompanying document DOCUMENT. We hope these questions will help future neuroscientists and psychologists explore this dataset and perhaps make their own unique discoveries as they learn to use python for data analysis."
   ]
  },
  {
   "cell_type": "markdown",
   "metadata": {},
   "source": [
    "To proceed with the tutorial, make sure you have completed the installation steps in the [README](https://github.com/cskrasniak/behavior_analysis_demo/blob/master/README.md)"
   ]
  },
  {
   "cell_type": "markdown",
   "metadata": {},
   "source": [
    "What follows is a tutorial that can be used as an example of how to access the IBL data and perform a simple analysis to answer a simple question. The data used in this tutorial are from mice that have been trained on a basic visual detection task, please read the [paper](https://www.biorxiv.org/content/10.1101/2020.01.17.909838v2) to understand the dataset you will be working with."
   ]
  },
  {
   "cell_type": "markdown",
   "metadata": {},
   "source": [
    "## Question: Who performs more trials, male or female mice?"
   ]
  },
  {
   "cell_type": "markdown",
   "metadata": {},
   "source": [
    "### Import packages\n",
    "The first step, as with any python code, is to import all of the packages we will need to work with the data, this is a good set to start with when working with IBL data. You may need more or fewer for specific questions, but this is a good start."
   ]
  },
  {
   "cell_type": "code",
   "execution_count": 2,
   "metadata": {},
   "outputs": [
    {
     "name": "stdout",
     "output_type": "stream",
     "text": [
      "Please enter DataJoint username: cskrasniak\n",
      "Connecting cskrasniak@datajoint.internationalbrainlab.org:3306\n",
      "Connected to https://alyx.internationalbrainlab.org as chrisk\n"
     ]
    }
   ],
   "source": [
    "import numpy as np\n",
    "import pandas as pd\n",
    "import sys\n",
    "import matplotlib.pyplot as plt\n",
    "import seaborn as sns\n",
    "import datajoint as dj\n",
    "import os\n",
    "import matplotlib as mpl\n",
    "from ibl_pipeline import subject, behavior, acquisition\n",
    "from paper_behavior_functions import query_sessions"
   ]
  },
  {
   "cell_type": "markdown",
   "metadata": {},
   "source": [
    "### Fetch the data we'll need\n",
    "Now that that's all setup, the next thing we have to do is retrieve the data from the database. To do that we will be using [DataJoint](https://docs.datajoint.io/python/), we will be running queries that will return the data we are looking for, queries in DataJoint are run using mySQL syntax. Read more about DataJoint in the link above, and the IBL Data Architecture [here](https://www.biorxiv.org/content/10.1101/827873v1). If you are going to be running your own analyses, it will be useful to familarize yourself with using datajoint with specific tutorials on [using datajoint with IBL data](https://github.com/int-brain-lab/IBL-pipeline/tree/master/notebooks/notebooks_tutorial/202001_behavior_paper).\n",
    "\n",
    "Included in the _simple_analysis_demo_ folder is the list of universially unique identifiers (UUIDs) of the mice we will use to answer our question, and we already imported a function `query_sessions` (last line above) to query the sessions that we will use data from."
   ]
  },
  {
   "cell_type": "code",
   "execution_count": null,
   "metadata": {},
   "outputs": [],
   "source": [
    "dj."
   ]
  },
  {
   "cell_type": "markdown",
   "metadata": {},
   "source": [
    "To compare sex of mouse with how many trials they completed, we need to know how many trials there were in a session, and if the mice were male or female. I'll show you where we can find this."
   ]
  },
  {
   "cell_type": "code",
   "execution_count": 6,
   "metadata": {},
   "outputs": [
    {
     "name": "stdout",
     "output_type": "stream",
     "text": [
      "# information about behavioral trials\n",
      "-> acquisition.Session\n",
      "---\n",
      "n_trials             : int                          # total trial numbers in this set\n",
      "n_correct_trials=null : int                          # number of the correct trials\n",
      "trials_start_time    : float                        # start time of the trial set (seconds)\n",
      "trials_end_time      : float                        # end time of the trial set (seconds)\n",
      "\n"
     ]
    },
    {
     "data": {
      "text/plain": [
       "'# information about behavioral trials\\n-> acquisition.Session\\n---\\nn_trials             : int                          # total trial numbers in this set\\nn_correct_trials=null : int                          # number of the correct trials\\ntrials_start_time    : float                        # start time of the trial set (seconds)\\ntrials_end_time      : float                        # end time of the trial set (seconds)\\n'"
      ]
     },
     "execution_count": 6,
     "metadata": {},
     "output_type": "execute_result"
    }
   ],
   "source": [
    "## The describe method is handy for datajoint objects, it lets you know what type of data is in what object\n",
    "behavior.TrialSet.describe()  # the number of trials completed per session is in behavior.TrialSet"
   ]
  },
  {
   "cell_type": "code",
   "execution_count": 10,
   "metadata": {},
   "outputs": [
    {
     "name": "stdout",
     "output_type": "stream",
     "text": [
      "subject_uuid         : uuid                         \n",
      "---\n",
      "subject_nickname     : varchar(255)                 # nickname\n",
      "sex                  : enum('M','F','U')            # sex\n",
      "subject_birth_date=null : date                         # birth date\n",
      "ear_mark=null        : varchar(255)                 # ear mark\n",
      "-> [nullable] subject.Line.proj(subject_line=\"line_name\")\n",
      "-> [nullable] subject.Source.proj(subject_source=\"source_name\")\n",
      "protocol_number      : tinyint                      # protocol number\n",
      "subject_description=null : varchar(1024)                \n",
      "subject_ts=CURRENT_TIMESTAMP : timestamp                    \n",
      "\n"
     ]
    },
    {
     "data": {
      "text/plain": [
       "'subject_uuid         : uuid                         \\n---\\nsubject_nickname     : varchar(255)                 # nickname\\nsex                  : enum(\\'M\\',\\'F\\',\\'U\\')            # sex\\nsubject_birth_date=null : date                         # birth date\\near_mark=null        : varchar(255)                 # ear mark\\n-> [nullable] subject.Line.proj(subject_line=\"line_name\")\\n-> [nullable] subject.Source.proj(subject_source=\"source_name\")\\nprotocol_number      : tinyint                      # protocol number\\nsubject_description=null : varchar(1024)                \\nsubject_ts=CURRENT_TIMESTAMP : timestamp                    \\n'"
      ]
     },
     "execution_count": 10,
     "metadata": {},
     "output_type": "execute_result"
    }
   ],
   "source": [
    "subject.Subject.describe()  # the sex of the mouse is in subject.Subject\n"
   ]
  },
  {
   "cell_type": "markdown",
   "metadata": {},
   "source": [
    "Now that we know where the information is, we can combine it and retrieve the data."
   ]
  },
  {
   "cell_type": "code",
   "execution_count": 26,
   "metadata": {},
   "outputs": [
    {
     "data": {
      "text/html": [
       "\n",
       "        \n",
       "        <style type=\"text/css\">\n",
       "            .Relation{\n",
       "                border-collapse:collapse;\n",
       "            }\n",
       "            .Relation th{\n",
       "                background: #A0A0A0; color: #ffffff; padding:4px; border:#f0e0e0 1px solid;\n",
       "                font-weight: normal; font-family: monospace; font-size: 100%;\n",
       "            }\n",
       "            .Relation td{\n",
       "                padding:4px; border:#f0e0e0 1px solid; font-size:100%;\n",
       "            }\n",
       "            .Relation tr:nth-child(odd){\n",
       "                background: #ffffff;\n",
       "            }\n",
       "            .Relation tr:nth-child(even){\n",
       "                background: #f3f1ff;\n",
       "            }\n",
       "            /* Tooltip container */\n",
       "            .djtooltip {\n",
       "            }\n",
       "            /* Tooltip text */\n",
       "            .djtooltip .djtooltiptext {\n",
       "                visibility: hidden;\n",
       "                width: 120px;\n",
       "                background-color: black;\n",
       "                color: #fff;\n",
       "                text-align: center;\n",
       "                padding: 5px 0;\n",
       "                border-radius: 6px;\n",
       "                /* Position the tooltip text - see examples below! */\n",
       "                position: absolute;\n",
       "                z-index: 1;\n",
       "            }\n",
       "            #primary {\n",
       "                font-weight: bold;\n",
       "                color: black;\n",
       "            }\n",
       "\n",
       "            #nonprimary {\n",
       "                font-weight: normal;\n",
       "                color: white;\n",
       "            }\n",
       "\n",
       "            /* Show the tooltip text when you mouse over the tooltip container */\n",
       "            .djtooltip:hover .djtooltiptext {\n",
       "                visibility: visible;\n",
       "            }\n",
       "        </style>\n",
       "        \n",
       "        \n",
       "            <div style=\"max-height:1000px;max-width:1500px;overflow:auto;\">\n",
       "            <table border=\"1\" class=\"Relation\">\n",
       "                <thead> <tr style=\"text-align: right;\"> <th> <div class=\"djtooltip\">\n",
       "                                <p id=\"primary\">subject_uuid</p>\n",
       "                                <span class=\"djtooltiptext\"></span>\n",
       "                            </div></th><th><div class=\"djtooltip\">\n",
       "                                <p id=\"primary\">session_start_time</p>\n",
       "                                <span class=\"djtooltiptext\">start time</span>\n",
       "                            </div></th><th><div class=\"djtooltip\">\n",
       "                                <p id=\"nonprimary\">n_trials</p>\n",
       "                                <span class=\"djtooltiptext\">total trial numbers in this set</span>\n",
       "                            </div></th><th><div class=\"djtooltip\">\n",
       "                                <p id=\"nonprimary\">n_correct_trials</p>\n",
       "                                <span class=\"djtooltiptext\">number of the correct trials</span>\n",
       "                            </div></th><th><div class=\"djtooltip\">\n",
       "                                <p id=\"nonprimary\">trials_start_time</p>\n",
       "                                <span class=\"djtooltiptext\">start time of the trial set (seconds)</span>\n",
       "                            </div></th><th><div class=\"djtooltip\">\n",
       "                                <p id=\"nonprimary\">trials_end_time</p>\n",
       "                                <span class=\"djtooltiptext\">end time of the trial set (seconds)</span>\n",
       "                            </div></th><th><div class=\"djtooltip\">\n",
       "                                <p id=\"nonprimary\">subject_nickname</p>\n",
       "                                <span class=\"djtooltiptext\">nickname</span>\n",
       "                            </div></th><th><div class=\"djtooltip\">\n",
       "                                <p id=\"nonprimary\">sex</p>\n",
       "                                <span class=\"djtooltiptext\">sex</span>\n",
       "                            </div></th><th><div class=\"djtooltip\">\n",
       "                                <p id=\"nonprimary\">subject_birth_date</p>\n",
       "                                <span class=\"djtooltiptext\">birth date</span>\n",
       "                            </div></th><th><div class=\"djtooltip\">\n",
       "                                <p id=\"nonprimary\">ear_mark</p>\n",
       "                                <span class=\"djtooltiptext\">ear mark</span>\n",
       "                            </div></th><th><div class=\"djtooltip\">\n",
       "                                <p id=\"nonprimary\">subject_line</p>\n",
       "                                <span class=\"djtooltiptext\">name</span>\n",
       "                            </div></th><th><div class=\"djtooltip\">\n",
       "                                <p id=\"nonprimary\">subject_source</p>\n",
       "                                <span class=\"djtooltiptext\">name of source</span>\n",
       "                            </div></th><th><div class=\"djtooltip\">\n",
       "                                <p id=\"nonprimary\">protocol_number</p>\n",
       "                                <span class=\"djtooltiptext\">protocol number</span>\n",
       "                            </div></th><th><div class=\"djtooltip\">\n",
       "                                <p id=\"nonprimary\">subject_description</p>\n",
       "                                <span class=\"djtooltiptext\"></span>\n",
       "                            </div></th><th><div class=\"djtooltip\">\n",
       "                                <p id=\"nonprimary\">subject_ts</p>\n",
       "                                <span class=\"djtooltiptext\"></span>\n",
       "                            </div> </th> </tr> </thead>\n",
       "                <tbody> <tr> <td>00778394-c956-408d-8a6c-ca3b05a611d5</td>\n",
       "<td>2019-08-10 11:24:59</td>\n",
       "<td>196</td>\n",
       "<td>72</td>\n",
       "<td>0.0</td>\n",
       "<td>2764.65</td>\n",
       "<td>KS019</td>\n",
       "<td>F</td>\n",
       "<td>2019-06-18</td>\n",
       "<td>None</td>\n",
       "<td>C57BL/6J</td>\n",
       "<td>None</td>\n",
       "<td>2</td>\n",
       "<td>None</td>\n",
       "<td>2019-08-13 17:07:33</td></tr><tr><td>00778394-c956-408d-8a6c-ca3b05a611d5</td>\n",
       "<td>2019-08-12 09:21:03</td>\n",
       "<td>140</td>\n",
       "<td>56</td>\n",
       "<td>0.0</td>\n",
       "<td>2775.9</td>\n",
       "<td>KS019</td>\n",
       "<td>F</td>\n",
       "<td>2019-06-18</td>\n",
       "<td>None</td>\n",
       "<td>C57BL/6J</td>\n",
       "<td>None</td>\n",
       "<td>2</td>\n",
       "<td>None</td>\n",
       "<td>2019-08-13 17:07:33</td></tr><tr><td>00778394-c956-408d-8a6c-ca3b05a611d5</td>\n",
       "<td>2019-08-13 10:28:45</td>\n",
       "<td>223</td>\n",
       "<td>91</td>\n",
       "<td>0.0</td>\n",
       "<td>3265.18</td>\n",
       "<td>KS019</td>\n",
       "<td>F</td>\n",
       "<td>2019-06-18</td>\n",
       "<td>None</td>\n",
       "<td>C57BL/6J</td>\n",
       "<td>None</td>\n",
       "<td>2</td>\n",
       "<td>None</td>\n",
       "<td>2019-08-13 17:07:33</td></tr><tr><td>00778394-c956-408d-8a6c-ca3b05a611d5</td>\n",
       "<td>2019-08-14 09:37:17</td>\n",
       "<td>55</td>\n",
       "<td>22</td>\n",
       "<td>0.0</td>\n",
       "<td>1306.78</td>\n",
       "<td>KS019</td>\n",
       "<td>F</td>\n",
       "<td>2019-06-18</td>\n",
       "<td>None</td>\n",
       "<td>C57BL/6J</td>\n",
       "<td>None</td>\n",
       "<td>2</td>\n",
       "<td>None</td>\n",
       "<td>2019-08-13 17:07:33</td></tr><tr><td>00778394-c956-408d-8a6c-ca3b05a611d5</td>\n",
       "<td>2019-08-14 11:35:16</td>\n",
       "<td>289</td>\n",
       "<td>134</td>\n",
       "<td>0.0</td>\n",
       "<td>2759.22</td>\n",
       "<td>KS019</td>\n",
       "<td>F</td>\n",
       "<td>2019-06-18</td>\n",
       "<td>None</td>\n",
       "<td>C57BL/6J</td>\n",
       "<td>None</td>\n",
       "<td>2</td>\n",
       "<td>None</td>\n",
       "<td>2019-08-13 17:07:33</td></tr><tr><td>00778394-c956-408d-8a6c-ca3b05a611d5</td>\n",
       "<td>2019-08-15 10:29:21</td>\n",
       "<td>141</td>\n",
       "<td>60</td>\n",
       "<td>0.0</td>\n",
       "<td>2713.52</td>\n",
       "<td>KS019</td>\n",
       "<td>F</td>\n",
       "<td>2019-06-18</td>\n",
       "<td>None</td>\n",
       "<td>C57BL/6J</td>\n",
       "<td>None</td>\n",
       "<td>2</td>\n",
       "<td>None</td>\n",
       "<td>2019-08-13 17:07:33</td></tr><tr><td>00778394-c956-408d-8a6c-ca3b05a611d5</td>\n",
       "<td>2019-08-16 17:00:11</td>\n",
       "<td>340</td>\n",
       "<td>159</td>\n",
       "<td>0.0</td>\n",
       "<td>2692.64</td>\n",
       "<td>KS019</td>\n",
       "<td>F</td>\n",
       "<td>2019-06-18</td>\n",
       "<td>None</td>\n",
       "<td>C57BL/6J</td>\n",
       "<td>None</td>\n",
       "<td>2</td>\n",
       "<td>None</td>\n",
       "<td>2019-08-13 17:07:33</td></tr><tr><td>00778394-c956-408d-8a6c-ca3b05a611d5</td>\n",
       "<td>2019-08-19 09:12:02</td>\n",
       "<td>224</td>\n",
       "<td>95</td>\n",
       "<td>0.0</td>\n",
       "<td>2688.67</td>\n",
       "<td>KS019</td>\n",
       "<td>F</td>\n",
       "<td>2019-06-18</td>\n",
       "<td>None</td>\n",
       "<td>C57BL/6J</td>\n",
       "<td>None</td>\n",
       "<td>2</td>\n",
       "<td>None</td>\n",
       "<td>2019-08-13 17:07:33</td></tr><tr><td>00778394-c956-408d-8a6c-ca3b05a611d5</td>\n",
       "<td>2019-08-20 12:06:48</td>\n",
       "<td>252</td>\n",
       "<td>111</td>\n",
       "<td>0.0</td>\n",
       "<td>2915.64</td>\n",
       "<td>KS019</td>\n",
       "<td>F</td>\n",
       "<td>2019-06-18</td>\n",
       "<td>None</td>\n",
       "<td>C57BL/6J</td>\n",
       "<td>None</td>\n",
       "<td>2</td>\n",
       "<td>None</td>\n",
       "<td>2019-08-13 17:07:33</td></tr><tr><td>00778394-c956-408d-8a6c-ca3b05a611d5</td>\n",
       "<td>2019-08-21 11:21:03</td>\n",
       "<td>269</td>\n",
       "<td>85</td>\n",
       "<td>0.0</td>\n",
       "<td>2701.59</td>\n",
       "<td>KS019</td>\n",
       "<td>F</td>\n",
       "<td>2019-06-18</td>\n",
       "<td>None</td>\n",
       "<td>C57BL/6J</td>\n",
       "<td>None</td>\n",
       "<td>2</td>\n",
       "<td>None</td>\n",
       "<td>2019-08-13 17:07:33</td></tr><tr><td>00778394-c956-408d-8a6c-ca3b05a611d5</td>\n",
       "<td>2019-08-22 10:11:19</td>\n",
       "<td>640</td>\n",
       "<td>309</td>\n",
       "<td>0.0</td>\n",
       "<td>4673.86</td>\n",
       "<td>KS019</td>\n",
       "<td>F</td>\n",
       "<td>2019-06-18</td>\n",
       "<td>None</td>\n",
       "<td>C57BL/6J</td>\n",
       "<td>None</td>\n",
       "<td>2</td>\n",
       "<td>None</td>\n",
       "<td>2019-08-13 17:07:33</td></tr><tr><td>00778394-c956-408d-8a6c-ca3b05a611d5</td>\n",
       "<td>2019-08-23 09:59:02</td>\n",
       "<td>521</td>\n",
       "<td>281</td>\n",
       "<td>0.0</td>\n",
       "<td>3209.46</td>\n",
       "<td>KS019</td>\n",
       "<td>F</td>\n",
       "<td>2019-06-18</td>\n",
       "<td>None</td>\n",
       "<td>C57BL/6J</td>\n",
       "<td>None</td>\n",
       "<td>2</td>\n",
       "<td>None</td>\n",
       "<td>2019-08-13 17:07:33</td> </tr> </tbody>\n",
       "            </table>\n",
       "            <p>...</p>\n",
       "            <p>Total: 13907</p></div>\n",
       "            "
      ],
      "text/plain": [
       "*subject_uuid  *session_start n_trials     n_correct_tria trials_start_t trials_end_tim subject_nickna sex     subject_birth_ ear_mark     subject_line   subject_source protocol_numbe subject_descri subject_ts    \n",
       "+------------+ +------------+ +----------+ +------------+ +------------+ +------------+ +------------+ +-----+ +------------+ +----------+ +------------+ +------------+ +------------+ +------------+ +------------+\n",
       "00778394-c956- 2019-08-10 11: 196          72             0.0            2764.65        KS019          F       2019-06-18     None         C57BL/6J       None           2              None           2019-08-13 17:\n",
       "00778394-c956- 2019-08-12 09: 140          56             0.0            2775.9         KS019          F       2019-06-18     None         C57BL/6J       None           2              None           2019-08-13 17:\n",
       "00778394-c956- 2019-08-13 10: 223          91             0.0            3265.18        KS019          F       2019-06-18     None         C57BL/6J       None           2              None           2019-08-13 17:\n",
       "00778394-c956- 2019-08-14 09: 55           22             0.0            1306.78        KS019          F       2019-06-18     None         C57BL/6J       None           2              None           2019-08-13 17:\n",
       "00778394-c956- 2019-08-14 11: 289          134            0.0            2759.22        KS019          F       2019-06-18     None         C57BL/6J       None           2              None           2019-08-13 17:\n",
       "00778394-c956- 2019-08-15 10: 141          60             0.0            2713.52        KS019          F       2019-06-18     None         C57BL/6J       None           2              None           2019-08-13 17:\n",
       "00778394-c956- 2019-08-16 17: 340          159            0.0            2692.64        KS019          F       2019-06-18     None         C57BL/6J       None           2              None           2019-08-13 17:\n",
       "00778394-c956- 2019-08-19 09: 224          95             0.0            2688.67        KS019          F       2019-06-18     None         C57BL/6J       None           2              None           2019-08-13 17:\n",
       "00778394-c956- 2019-08-20 12: 252          111            0.0            2915.64        KS019          F       2019-06-18     None         C57BL/6J       None           2              None           2019-08-13 17:\n",
       "00778394-c956- 2019-08-21 11: 269          85             0.0            2701.59        KS019          F       2019-06-18     None         C57BL/6J       None           2              None           2019-08-13 17:\n",
       "00778394-c956- 2019-08-22 10: 640          309            0.0            4673.86        KS019          F       2019-06-18     None         C57BL/6J       None           2              None           2019-08-13 17:\n",
       "00778394-c956- 2019-08-23 09: 521          281            0.0            3209.46        KS019          F       2019-06-18     None         C57BL/6J       None           2              None           2019-08-13 17:\n",
       "   ...\n",
       " (Total: 13907)"
      ]
     },
     "execution_count": 26,
     "metadata": {},
     "output_type": "execute_result"
    }
   ],
   "source": [
    "data_to_fetch =  behavior.TrialSet * subject.Subject\n",
    "data_to_fetch"
   ]
  },
  {
   "cell_type": "code",
   "execution_count": 36,
   "metadata": {},
   "outputs": [
    {
     "data": {
      "text/html": [
       "<div>\n",
       "<style scoped>\n",
       "    .dataframe tbody tr th:only-of-type {\n",
       "        vertical-align: middle;\n",
       "    }\n",
       "\n",
       "    .dataframe tbody tr th {\n",
       "        vertical-align: top;\n",
       "    }\n",
       "\n",
       "    .dataframe thead th {\n",
       "        text-align: right;\n",
       "    }\n",
       "</style>\n",
       "<table border=\"1\" class=\"dataframe\">\n",
       "  <thead>\n",
       "    <tr style=\"text-align: right;\">\n",
       "      <th></th>\n",
       "      <th>n_trials</th>\n",
       "      <th>n_correct_trials</th>\n",
       "      <th>trials_end_time</th>\n",
       "      <th>sex</th>\n",
       "    </tr>\n",
       "  </thead>\n",
       "  <tbody>\n",
       "    <tr>\n",
       "      <th>0</th>\n",
       "      <td>196</td>\n",
       "      <td>72</td>\n",
       "      <td>2764.65</td>\n",
       "      <td>F</td>\n",
       "    </tr>\n",
       "    <tr>\n",
       "      <th>1</th>\n",
       "      <td>140</td>\n",
       "      <td>56</td>\n",
       "      <td>2775.90</td>\n",
       "      <td>F</td>\n",
       "    </tr>\n",
       "    <tr>\n",
       "      <th>2</th>\n",
       "      <td>223</td>\n",
       "      <td>91</td>\n",
       "      <td>3265.18</td>\n",
       "      <td>F</td>\n",
       "    </tr>\n",
       "    <tr>\n",
       "      <th>3</th>\n",
       "      <td>55</td>\n",
       "      <td>22</td>\n",
       "      <td>1306.78</td>\n",
       "      <td>F</td>\n",
       "    </tr>\n",
       "    <tr>\n",
       "      <th>4</th>\n",
       "      <td>289</td>\n",
       "      <td>134</td>\n",
       "      <td>2759.22</td>\n",
       "      <td>F</td>\n",
       "    </tr>\n",
       "    <tr>\n",
       "      <th>...</th>\n",
       "      <td>...</td>\n",
       "      <td>...</td>\n",
       "      <td>...</td>\n",
       "      <td>...</td>\n",
       "    </tr>\n",
       "    <tr>\n",
       "      <th>13902</th>\n",
       "      <td>387</td>\n",
       "      <td>221</td>\n",
       "      <td>2721.40</td>\n",
       "      <td>U</td>\n",
       "    </tr>\n",
       "    <tr>\n",
       "      <th>13903</th>\n",
       "      <td>1155</td>\n",
       "      <td>757</td>\n",
       "      <td>5703.48</td>\n",
       "      <td>U</td>\n",
       "    </tr>\n",
       "    <tr>\n",
       "      <th>13904</th>\n",
       "      <td>902</td>\n",
       "      <td>644</td>\n",
       "      <td>4495.77</td>\n",
       "      <td>U</td>\n",
       "    </tr>\n",
       "    <tr>\n",
       "      <th>13905</th>\n",
       "      <td>821</td>\n",
       "      <td>551</td>\n",
       "      <td>4386.03</td>\n",
       "      <td>U</td>\n",
       "    </tr>\n",
       "    <tr>\n",
       "      <th>13906</th>\n",
       "      <td>427</td>\n",
       "      <td>328</td>\n",
       "      <td>3130.53</td>\n",
       "      <td>U</td>\n",
       "    </tr>\n",
       "  </tbody>\n",
       "</table>\n",
       "<p>13907 rows × 4 columns</p>\n",
       "</div>"
      ],
      "text/plain": [
       "       n_trials  n_correct_trials  trials_end_time sex\n",
       "0           196                72          2764.65   F\n",
       "1           140                56          2775.90   F\n",
       "2           223                91          3265.18   F\n",
       "3            55                22          1306.78   F\n",
       "4           289               134          2759.22   F\n",
       "...         ...               ...              ...  ..\n",
       "13902       387               221          2721.40   U\n",
       "13903      1155               757          5703.48   U\n",
       "13904       902               644          4495.77   U\n",
       "13905       821               551          4386.03   U\n",
       "13906       427               328          3130.53   U\n",
       "\n",
       "[13907 rows x 4 columns]"
      ]
     },
     "execution_count": 36,
     "metadata": {},
     "output_type": "execute_result"
    }
   ],
   "source": [
    "## Fetch the data as a pandas dataframe \n",
    "data = data_to_fetch.fetch('n_trials','n_correct_trials','trials_end_time','sex',as_dict=True)\n",
    "data = pd.DataFrame(data)\n",
    "print(data)"
   ]
  },
  {
   "cell_type": "code",
   "execution_count": 37,
   "metadata": {},
   "outputs": [
    {
     "name": "stdout",
     "output_type": "stream",
     "text": [
      "       n_trials  n_correct_trials  trials_end_time sex\n",
      "0           196                72          2764.65   F\n",
      "1           140                56          2775.90   F\n",
      "2           223                91          3265.18   F\n",
      "3            55                22          1306.78   F\n",
      "4           289               134          2759.22   F\n",
      "...         ...               ...              ...  ..\n",
      "13902       387               221          2721.40   U\n",
      "13903      1155               757          5703.48   U\n",
      "13904       902               644          4495.77   U\n",
      "13905       821               551          4386.03   U\n",
      "13906       427               328          3130.53   U\n",
      "\n",
      "[13907 rows x 4 columns]\n"
     ]
    }
   ],
   "source": [
    "print(data)"
   ]
  },
  {
   "cell_type": "markdown",
   "metadata": {},
   "source": [
    "To inspire original questions for students, the following line can be run to find what the available data types are for analysis."
   ]
  }
 ],
 "metadata": {
  "kernelspec": {
   "display_name": "Python 3",
   "language": "python",
   "name": "python3"
  },
  "language_info": {
   "codemirror_mode": {
    "name": "ipython",
    "version": 3
   },
   "file_extension": ".py",
   "mimetype": "text/x-python",
   "name": "python",
   "nbconvert_exporter": "python",
   "pygments_lexer": "ipython3",
   "version": "3.7.6"
  }
 },
 "nbformat": 4,
 "nbformat_minor": 2
}
